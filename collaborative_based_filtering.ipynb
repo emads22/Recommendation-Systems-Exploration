{
 "cells": [
  {
   "cell_type": "markdown",
   "id": "c4418e96-f0b4-42ba-b487-acbce76a4fd6",
   "metadata": {},
   "source": [
    "# Collaborative-Based Filtering"
   ]
  },
  {
   "cell_type": "markdown",
   "id": "09502a3e-4b69-4fac-af03-dc43793515d0",
   "metadata": {},
   "source": [
    "In collaborative-based filtering, we aim to predict what content a user might enjoy by identifying similar users and their preferences for movies. Since not all users rate every movie, we predict how a user would rate unseen movies based on their past preferences and those of similar users. This prediction is made through training a machine learning model on a dataset of user IDs and movie ratings.\n",
    "\n",
    "Once trained, the model can predict a user's rating for a particular movie based on their user ID and the movie. If the predicted rating is high, we recommend the movie to that user. To implement this, we organize the dataset into a training set and train the model. This allows us to efficiently cater to diverse user preferences by providing personalized recommendations."
   ]
  },
  {
   "cell_type": "markdown",
   "id": "d2c86c2a-f84f-4db5-af93-002853931fc0",
   "metadata": {},
   "source": [
    "## Load data"
   ]
  },
  {
   "cell_type": "code",
   "execution_count": 27,
   "id": "14a54315-0a95-4787-af78-dd9a4f559f84",
   "metadata": {},
   "outputs": [
    {
     "data": {
      "text/html": [
       "<div>\n",
       "<style scoped>\n",
       "    .dataframe tbody tr th:only-of-type {\n",
       "        vertical-align: middle;\n",
       "    }\n",
       "\n",
       "    .dataframe tbody tr th {\n",
       "        vertical-align: top;\n",
       "    }\n",
       "\n",
       "    .dataframe thead th {\n",
       "        text-align: right;\n",
       "    }\n",
       "</style>\n",
       "<table border=\"1\" class=\"dataframe\">\n",
       "  <thead>\n",
       "    <tr style=\"text-align: right;\">\n",
       "      <th></th>\n",
       "      <th>userId</th>\n",
       "      <th>movieId</th>\n",
       "      <th>rating</th>\n",
       "    </tr>\n",
       "  </thead>\n",
       "  <tbody>\n",
       "    <tr>\n",
       "      <th>0</th>\n",
       "      <td>1</td>\n",
       "      <td>31</td>\n",
       "      <td>2.5</td>\n",
       "    </tr>\n",
       "    <tr>\n",
       "      <th>1</th>\n",
       "      <td>1</td>\n",
       "      <td>1029</td>\n",
       "      <td>3.0</td>\n",
       "    </tr>\n",
       "    <tr>\n",
       "      <th>2</th>\n",
       "      <td>1</td>\n",
       "      <td>1061</td>\n",
       "      <td>3.0</td>\n",
       "    </tr>\n",
       "    <tr>\n",
       "      <th>3</th>\n",
       "      <td>1</td>\n",
       "      <td>1129</td>\n",
       "      <td>2.0</td>\n",
       "    </tr>\n",
       "    <tr>\n",
       "      <th>4</th>\n",
       "      <td>1</td>\n",
       "      <td>1172</td>\n",
       "      <td>4.0</td>\n",
       "    </tr>\n",
       "  </tbody>\n",
       "</table>\n",
       "</div>"
      ],
      "text/plain": [
       "   userId  movieId  rating\n",
       "0       1       31     2.5\n",
       "1       1     1029     3.0\n",
       "2       1     1061     3.0\n",
       "3       1     1129     2.0\n",
       "4       1     1172     4.0"
      ]
     },
     "execution_count": 27,
     "metadata": {},
     "output_type": "execute_result"
    }
   ],
   "source": [
    "import pandas as pd\n",
    "\n",
    "# Load the ratings data from the 'ratings.csv' file into a DataFrame\n",
    "ratings_df = pd.read_csv('./data/ratings.csv')\n",
    "\n",
    "# Selecting only the columns 'userId', 'movieId', and 'rating' from the DataFrame\n",
    "ratings_df = ratings_df.loc[:, ['userId', 'movieId', 'rating']]\n",
    "\n",
    "# Display the first few rows of the ratings DataFrame to get an overview of the data\n",
    "ratings_df.head()"
   ]
  },
  {
   "cell_type": "markdown",
   "id": "b8e867cc-f239-4be2-bef4-038a59184a78",
   "metadata": {},
   "source": [
    "## Create the dataset"
   ]
  },
  {
   "cell_type": "code",
   "execution_count": 3,
   "id": "48175c98-d736-4f0f-a15f-000080d12c71",
   "metadata": {},
   "outputs": [],
   "source": [
    "import surprise"
   ]
  },
  {
   "cell_type": "code",
   "execution_count": 28,
   "id": "0c9814aa-1d08-48ab-9c89-87046eb1917c",
   "metadata": {},
   "outputs": [],
   "source": [
    "from surprise import Dataset, Reader\n",
    "\n",
    "# Creating a Reader object with the specified rating scale\n",
    "# The rating scale indicates the minimum and maximum possible ratings in the dataset\n",
    "# Here, the ratings range from 1 to 5\n",
    "reader = Reader(rating_scale=(1, 5))\n",
    "\n",
    "# Loading the dataset from a DataFrame using Surprise's load_from_df() function\n",
    "# The ratings_df DataFrame contains the ratings data with columns 'userId', 'movieId', and 'rating'\n",
    "# The Reader object is passed to specify the rating scale\n",
    "dataset = Dataset.load_from_df(ratings_df, reader)"
   ]
  },
  {
   "cell_type": "markdown",
   "id": "31452ed7-148e-4fb8-ac5b-5646d792abad",
   "metadata": {},
   "source": [
    "## Build the trainset"
   ]
  },
  {
   "cell_type": "code",
   "execution_count": 29,
   "id": "a9b037ff-b6a3-4c6c-a9a2-c4d62ff02a75",
   "metadata": {},
   "outputs": [],
   "source": [
    "# Building the training set from the dataset\n",
    "# The build_full_trainset() function constructs a training set that contains all the ratings from the original dataset\n",
    "# This is useful for training models on the entire available data\n",
    "# It creates a Trainset object, which is a special data structure used by Surprise for training models\n",
    "trainset = dataset.build_full_trainset()"
   ]
  },
  {
   "cell_type": "code",
   "execution_count": 30,
   "id": "3ac61e2c-4e91-484c-96cf-601a7fecf6bd",
   "metadata": {},
   "outputs": [
    {
     "data": {
      "text/plain": [
       "[(0, 0, 2.5),\n",
       " (0, 1, 3.0),\n",
       " (0, 2, 3.0),\n",
       " (0, 3, 2.0),\n",
       " (0, 4, 4.0),\n",
       " (0, 5, 2.0),\n",
       " (0, 6, 2.0),\n",
       " (0, 7, 2.0),\n",
       " (0, 8, 3.5),\n",
       " (0, 9, 2.0)]"
      ]
     },
     "execution_count": 30,
     "metadata": {},
     "output_type": "execute_result"
    }
   ],
   "source": [
    "# Converting all ratings in the training set to a list and selecting the first 10 ratings\n",
    "# The all_ratings() method returns a generator that yields tuples of (user_id, item_id, rating) for all ratings in the training set\n",
    "# By converting the generator to a list, we can easily manipulate and view the ratings\n",
    "# We use list slicing [:10] to select the first 10 ratings from the list\n",
    "list(trainset.all_ratings())[:10]"
   ]
  },
  {
   "cell_type": "markdown",
   "id": "82566af6-9200-45f4-8ad4-f1b71341fda0",
   "metadata": {},
   "source": [
    "## Train the Model"
   ]
  },
  {
   "cell_type": "code",
   "execution_count": 31,
   "id": "9acc8360-3837-4907-b7a0-41092e1f89d6",
   "metadata": {},
   "outputs": [
    {
     "data": {
      "text/plain": [
       "<surprise.prediction_algorithms.matrix_factorization.SVD at 0x24b4b4caa80>"
      ]
     },
     "execution_count": 31,
     "metadata": {},
     "output_type": "execute_result"
    }
   ],
   "source": [
    "# Importing the SVD (Singular Value Decomposition) model from Surprise\n",
    "from surprise import SVD\n",
    "\n",
    "# Creating an instance of the SVD model\n",
    "svd = SVD()\n",
    "\n",
    "# Fitting the SVD model to the training set\n",
    "# The fit() method trains the model using the data in the training set\n",
    "svd.fit(trainset)"
   ]
  },
  {
   "cell_type": "code",
   "execution_count": 32,
   "id": "5347a1fe-1e2c-448c-b98f-fbb04d0c7d45",
   "metadata": {},
   "outputs": [
    {
     "data": {
      "text/plain": [
       "Prediction(uid=15, iid=1956, r_ui=None, est=3.01651083732151, details={'was_impossible': False})"
      ]
     },
     "execution_count": 32,
     "metadata": {},
     "output_type": "execute_result"
    }
   ],
   "source": [
    "# Make a prediction for user 15 and item 1956\n",
    "# This predicts the rating that user 15 would give to item 1956\n",
    "prediction = svd.predict(15, 1956)\n",
    "\n",
    "prediction"
   ]
  },
  {
   "cell_type": "code",
   "execution_count": 33,
   "id": "77d64816-3add-4951-b26c-86ba6e9ca63c",
   "metadata": {},
   "outputs": [
    {
     "data": {
      "text/plain": [
       "3.01651083732151"
      ]
     },
     "execution_count": 33,
     "metadata": {},
     "output_type": "execute_result"
    }
   ],
   "source": [
    "# Retrieve the estimated rating from the prediction object\n",
    "# The 'est' attribute of the prediction object contains the estimated rating\n",
    "estimation = prediction.est\n",
    "\n",
    "estimation"
   ]
  },
  {
   "cell_type": "markdown",
   "id": "05147e30-fec7-4966-997f-97d527a4b9ca",
   "metadata": {},
   "source": [
    "## Validation"
   ]
  },
  {
   "cell_type": "code",
   "execution_count": 34,
   "id": "af90769b-b857-490d-8b25-ed2eb229136d",
   "metadata": {},
   "outputs": [
    {
     "data": {
      "text/plain": [
       "{'test_rmse': array([0.9011104 , 0.88778282, 0.89612143, 0.8968526 , 0.90322592]),\n",
       " 'test_mae': array([0.69659455, 0.68170277, 0.69003976, 0.68924303, 0.695387  ]),\n",
       " 'fit_time': (1.1889941692352295,\n",
       "  1.2052981853485107,\n",
       "  1.2481846809387207,\n",
       "  1.1065196990966797,\n",
       "  1.2124087810516357),\n",
       " 'test_time': (0.14124774932861328,\n",
       "  0.2852060794830322,\n",
       "  0.13715481758117676,\n",
       "  0.12125349044799805,\n",
       "  0.2573988437652588)}"
      ]
     },
     "execution_count": 34,
     "metadata": {},
     "output_type": "execute_result"
    }
   ],
   "source": [
    "from surprise import model_selection\n",
    "\n",
    "# Perform cross-validation to evaluate the performance of the SVD model using RMSE and MAE measures\n",
    "# 'svd' is the trained Singular Value Decomposition (SVD) model\n",
    "# 'dataset' is the dataset used for training and testing the model\n",
    "# 'measures' specifies the evaluation metrics to be computed, here we use Root Mean Squared Error (RMSE) and Mean Absolute Error (MAE)\n",
    "# Cross-validation divides the dataset into multiple folds, trains the model on some folds, \n",
    "# and tests it on others to get an overall estimate of performance\n",
    "accuracy = model_selection.cross_validate(svd, dataset, measures=['RMSE', 'MAE'])\n",
    "\n",
    "accuracy"
   ]
  },
  {
   "cell_type": "code",
   "execution_count": null,
   "id": "380bfe84-9648-4afa-9334-33b5f06917cd",
   "metadata": {},
   "outputs": [],
   "source": []
  }
 ],
 "metadata": {
  "kernelspec": {
   "display_name": "Python 3 (ipykernel)",
   "language": "python",
   "name": "python3"
  },
  "language_info": {
   "codemirror_mode": {
    "name": "ipython",
    "version": 3
   },
   "file_extension": ".py",
   "mimetype": "text/x-python",
   "name": "python",
   "nbconvert_exporter": "python",
   "pygments_lexer": "ipython3",
   "version": "3.12.3"
  }
 },
 "nbformat": 4,
 "nbformat_minor": 5
}
